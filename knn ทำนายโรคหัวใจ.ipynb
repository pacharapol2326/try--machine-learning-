{
 "cells": [
  {
   "cell_type": "code",
   "execution_count": 33,
   "metadata": {},
   "outputs": [],
   "source": [
    "from sklearn.model_selection import train_test_split\n",
    "from sklearn.neighbors import KNeighborsClassifier\n",
    "import pandas as pd\n",
    "import numpy as np\n",
    "import matplotlib.pyplot as plt\n",
    "from sklearn.metrics import classification_report,confusion_matrix"
   ]
  },
  {
   "attachments": {},
   "cell_type": "markdown",
   "metadata": {},
   "source": [
    "# Import csv"
   ]
  },
  {
   "cell_type": "code",
   "execution_count": 18,
   "metadata": {},
   "outputs": [
    {
     "name": "stdout",
     "output_type": "stream",
     "text": [
      "Index(['age', 'sex', 'cp', 'trestbps', 'chol', 'fbs', 'restecg', 'thalach',\n",
      "       'exang', 'oldpeak', 'slope', 'ca', 'thal', 'target'],\n",
      "      dtype='object')\n"
     ]
    }
   ],
   "source": [
    "df = pd.read_csv('heart.csv')\n",
    "print(df.keys())"
   ]
  },
  {
   "attachments": {},
   "cell_type": "markdown",
   "metadata": {},
   "source": [
    "# Data"
   ]
  },
  {
   "cell_type": "code",
   "execution_count": 41,
   "metadata": {},
   "outputs": [
    {
     "name": "stdout",
     "output_type": "stream",
     "text": [
      "              precision    recall  f1-score   support\n",
      "\n",
      "           0       0.84      1.00      0.91        99\n",
      "           1       1.00      0.82      0.90       106\n",
      "\n",
      "    accuracy                           0.91       205\n",
      "   macro avg       0.92      0.91      0.91       205\n",
      "weighted avg       0.92      0.91      0.91       205\n",
      "\n",
      "Prediction    0   1  All\n",
      "Actually                \n",
      "0            99   0   99\n",
      "1            19  87  106\n",
      "All         118  87  205\n"
     ]
    }
   ],
   "source": [
    "#สร้่างตัวแปรมารับข้อมูลที่จะใช้\n",
    "# x เก็บข้อมูลทั้งหมดที่ไม่มี incom\n",
    "x = df.drop('target',axis=1).values\n",
    "# y เก็บ colum income\n",
    "y = df['target'].values\n",
    "\n",
    "\n",
    "#แบ่ง data สำหรับ train,test\n",
    "x_train,x_test,y_train,y_test = train_test_split(x,y ,test_size= 0.2 )\n",
    "\n",
    "# สร้าง Model\n",
    "knn = KNeighborsClassifier(n_neighbors=2)\n",
    "\n",
    "#train model\n",
    "knn.fit(x_train,y_train)\n",
    "\n",
    "#prdeict\n",
    "y_predict = knn.predict(x_test)\n",
    "\n",
    "\n",
    "#ความแม่นยำของผล\n",
    "print(classification_report(y_test,y_predict))\n",
    "\n",
    "print(pd.crosstab(y_test,y_predict,rownames = ['Actually'],colnames=['Prediction'],margins=True))\n",
    "\n",
    "\n",
    "\n"
   ]
  },
  {
   "cell_type": "code",
   "execution_count": null,
   "metadata": {},
   "outputs": [],
   "source": []
  }
 ],
 "metadata": {
  "kernelspec": {
   "display_name": "Python 3",
   "language": "python",
   "name": "python3"
  },
  "language_info": {
   "codemirror_mode": {
    "name": "ipython",
    "version": 3
   },
   "file_extension": ".py",
   "mimetype": "text/x-python",
   "name": "python",
   "nbconvert_exporter": "python",
   "pygments_lexer": "ipython3",
   "version": "3.11.1"
  },
  "orig_nbformat": 4,
  "vscode": {
   "interpreter": {
    "hash": "3a215b1fd6671ec9effc933078e7d8e866cfabba20163514437b3dc59a6f4d1e"
   }
  }
 },
 "nbformat": 4,
 "nbformat_minor": 2
}
